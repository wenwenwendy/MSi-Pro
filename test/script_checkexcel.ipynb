{
 "metadata": {
  "language_info": {
   "codemirror_mode": {
    "name": "ipython",
    "version": 3
   },
   "file_extension": ".py",
   "mimetype": "text/x-python",
   "name": "python",
   "nbconvert_exporter": "python",
   "pygments_lexer": "ipython3",
   "version": "3.8.5-final"
  },
  "orig_nbformat": 2,
  "kernelspec": {
   "name": "python3",
   "display_name": "Python 3",
   "language": "python"
  }
 },
 "nbformat": 4,
 "nbformat_minor": 2,
 "cells": [
  {
   "cell_type": "code",
   "execution_count": 1,
   "metadata": {},
   "outputs": [],
   "source": [
    "import pandas\n"
   ]
  },
  {
   "cell_type": "code",
   "execution_count": 4,
   "metadata": {},
   "outputs": [
    {
     "output_type": "execute_result",
     "data": {
      "text/plain": [
       "  Allele  Length  Number of peptides  Entropy difference pos1  \\\n",
       "0  A0101       8                  37                 0.131686   \n",
       "1  A0201       8                  30                 0.100920   \n",
       "2  A0202       8                  52                 0.172898   \n",
       "3  A0203       8                  39                 0.191610   \n",
       "4  A0204       8                  26                 0.108263   \n",
       "\n",
       "   Entropy difference pos2  Entropy difference pos3  Entropy difference pos4  \\\n",
       "0                 0.032506                 0.206664                 0.166178   \n",
       "1                -0.167071                 0.196775                 0.068301   \n",
       "2                -0.509067                -0.006837                -0.002273   \n",
       "3                -0.016993                 0.164834                 0.256911   \n",
       "4                 0.092360                 0.363197                 0.372020   \n",
       "\n",
       "   Entropy difference pos5  Entropy difference pos6  Entropy difference pos7  \\\n",
       "0                 0.202869                 0.211606                 0.223933   \n",
       "1                 0.100946                 0.088307                 0.154004   \n",
       "2                 0.050008                 0.111312                 0.049560   \n",
       "3                 0.284407                 0.172184                 0.074072   \n",
       "4                 0.071705                 0.211535                 0.148373   \n",
       "\n",
       "   Entropy difference pos8  Entropy difference pos9  \\\n",
       "0                 0.050839                      NaN   \n",
       "1                -0.137971                      NaN   \n",
       "2                -0.247018                      NaN   \n",
       "3                 0.104268                      NaN   \n",
       "4                -0.000020                      NaN   \n",
       "\n",
       "   Max absolute entropy difference Different positions (threshold 0.2)  \\\n",
       "0                         0.223933                             3,5,6,7   \n",
       "1                         0.196775                                   0   \n",
       "2                         0.509067                                 2,8   \n",
       "3                         0.284407                                 4,5   \n",
       "4                         0.372020                               3,4,6   \n",
       "\n",
       "   Max abs AA frequency difference\\n9-mer vs \\npseudo9 no4  \\\n",
       "0                                             0.2440         \n",
       "1                                             0.3489         \n",
       "2                                             0.5618         \n",
       "3                                             0.3619         \n",
       "4                                             0.5213         \n",
       "\n",
       "   Max abs AA frequency difference\\n9-mer vs \\npseudo9 no5  \\\n",
       "0                                             0.2440         \n",
       "1                                             0.3489         \n",
       "2                                             0.5618         \n",
       "3                                             0.3619         \n",
       "4                                             0.5213         \n",
       "\n",
       "   Max abs AA frequency difference\\n9-mer vs \\npseudo9 no6  \\\n",
       "0                                             0.2440         \n",
       "1                                             0.3489         \n",
       "2                                             0.5618         \n",
       "3                                             0.5215         \n",
       "4                                             0.5213         \n",
       "\n",
       "   Min of max absolute AA frequency difference (threshold 0.25)  \\\n",
       "0                                             0.2440              \n",
       "1                                             0.3489              \n",
       "2                                             0.5618              \n",
       "3                                             0.3619              \n",
       "4                                             0.5213              \n",
       "\n",
       "   Different motif (n>=100 and (dfreq>0.25 or dentr>0.2)  \n",
       "0                                                  0      \n",
       "1                                                  0      \n",
       "2                                                  0      \n",
       "3                                                  0      \n",
       "4                                                  0      "
      ],
      "text/html": "<div>\n<style scoped>\n    .dataframe tbody tr th:only-of-type {\n        vertical-align: middle;\n    }\n\n    .dataframe tbody tr th {\n        vertical-align: top;\n    }\n\n    .dataframe thead th {\n        text-align: right;\n    }\n</style>\n<table border=\"1\" class=\"dataframe\">\n  <thead>\n    <tr style=\"text-align: right;\">\n      <th></th>\n      <th>Allele</th>\n      <th>Length</th>\n      <th>Number of peptides</th>\n      <th>Entropy difference pos1</th>\n      <th>Entropy difference pos2</th>\n      <th>Entropy difference pos3</th>\n      <th>Entropy difference pos4</th>\n      <th>Entropy difference pos5</th>\n      <th>Entropy difference pos6</th>\n      <th>Entropy difference pos7</th>\n      <th>Entropy difference pos8</th>\n      <th>Entropy difference pos9</th>\n      <th>Max absolute entropy difference</th>\n      <th>Different positions (threshold 0.2)</th>\n      <th>Max abs AA frequency difference\\n9-mer vs \\npseudo9 no4</th>\n      <th>Max abs AA frequency difference\\n9-mer vs \\npseudo9 no5</th>\n      <th>Max abs AA frequency difference\\n9-mer vs \\npseudo9 no6</th>\n      <th>Min of max absolute AA frequency difference (threshold 0.25)</th>\n      <th>Different motif (n&gt;=100 and (dfreq&gt;0.25 or dentr&gt;0.2)</th>\n    </tr>\n  </thead>\n  <tbody>\n    <tr>\n      <th>0</th>\n      <td>A0101</td>\n      <td>8</td>\n      <td>37</td>\n      <td>0.131686</td>\n      <td>0.032506</td>\n      <td>0.206664</td>\n      <td>0.166178</td>\n      <td>0.202869</td>\n      <td>0.211606</td>\n      <td>0.223933</td>\n      <td>0.050839</td>\n      <td>NaN</td>\n      <td>0.223933</td>\n      <td>3,5,6,7</td>\n      <td>0.2440</td>\n      <td>0.2440</td>\n      <td>0.2440</td>\n      <td>0.2440</td>\n      <td>0</td>\n    </tr>\n    <tr>\n      <th>1</th>\n      <td>A0201</td>\n      <td>8</td>\n      <td>30</td>\n      <td>0.100920</td>\n      <td>-0.167071</td>\n      <td>0.196775</td>\n      <td>0.068301</td>\n      <td>0.100946</td>\n      <td>0.088307</td>\n      <td>0.154004</td>\n      <td>-0.137971</td>\n      <td>NaN</td>\n      <td>0.196775</td>\n      <td>0</td>\n      <td>0.3489</td>\n      <td>0.3489</td>\n      <td>0.3489</td>\n      <td>0.3489</td>\n      <td>0</td>\n    </tr>\n    <tr>\n      <th>2</th>\n      <td>A0202</td>\n      <td>8</td>\n      <td>52</td>\n      <td>0.172898</td>\n      <td>-0.509067</td>\n      <td>-0.006837</td>\n      <td>-0.002273</td>\n      <td>0.050008</td>\n      <td>0.111312</td>\n      <td>0.049560</td>\n      <td>-0.247018</td>\n      <td>NaN</td>\n      <td>0.509067</td>\n      <td>2,8</td>\n      <td>0.5618</td>\n      <td>0.5618</td>\n      <td>0.5618</td>\n      <td>0.5618</td>\n      <td>0</td>\n    </tr>\n    <tr>\n      <th>3</th>\n      <td>A0203</td>\n      <td>8</td>\n      <td>39</td>\n      <td>0.191610</td>\n      <td>-0.016993</td>\n      <td>0.164834</td>\n      <td>0.256911</td>\n      <td>0.284407</td>\n      <td>0.172184</td>\n      <td>0.074072</td>\n      <td>0.104268</td>\n      <td>NaN</td>\n      <td>0.284407</td>\n      <td>4,5</td>\n      <td>0.3619</td>\n      <td>0.3619</td>\n      <td>0.5215</td>\n      <td>0.3619</td>\n      <td>0</td>\n    </tr>\n    <tr>\n      <th>4</th>\n      <td>A0204</td>\n      <td>8</td>\n      <td>26</td>\n      <td>0.108263</td>\n      <td>0.092360</td>\n      <td>0.363197</td>\n      <td>0.372020</td>\n      <td>0.071705</td>\n      <td>0.211535</td>\n      <td>0.148373</td>\n      <td>-0.000020</td>\n      <td>NaN</td>\n      <td>0.372020</td>\n      <td>3,4,6</td>\n      <td>0.5213</td>\n      <td>0.5213</td>\n      <td>0.5213</td>\n      <td>0.5213</td>\n      <td>0</td>\n    </tr>\n  </tbody>\n</table>\n</div>"
     },
     "metadata": {},
     "execution_count": 4
    }
   ],
   "source": [
    "data3=pandas.read_excel('data/filesfrompaper/stable3 length-based.xlsx',sheet_name=1)\n",
    "data3.head()"
   ]
  },
  {
   "cell_type": "code",
   "execution_count": 3,
   "metadata": {},
   "outputs": [
    {
     "output_type": "execute_result",
     "data": {
      "text/plain": [
       "    Allele  PostFilters  less7   7   8     9   10   11   12  13  14  15  16  \\\n",
       "0  A*01:01         1383      0   0  37   488  341  211  167  92  23  14   5   \n",
       "1  A*02:01         3274      0  10  30  2075  481  489  103  48  15   8   8   \n",
       "2  A*02:02         3363      0  30  52  2322  507  282   83  35  12   8   8   \n",
       "3  A*02:03         2649      0   5  39  1760  671  103   34  15   6   3   3   \n",
       "4  A*02:04         2027      0   6  26  1628  178  153   24   6   2   1   1   \n",
       "\n",
       "   17  18  19  20  more20  \n",
       "0   4   0   1   0       0  \n",
       "1   4   1   1   0       1  \n",
       "2   1   3   5   2      13  \n",
       "3   3   1   2   1       3  \n",
       "4   1   1   0   0       0  "
      ],
      "text/html": "<div>\n<style scoped>\n    .dataframe tbody tr th:only-of-type {\n        vertical-align: middle;\n    }\n\n    .dataframe tbody tr th {\n        vertical-align: top;\n    }\n\n    .dataframe thead th {\n        text-align: right;\n    }\n</style>\n<table border=\"1\" class=\"dataframe\">\n  <thead>\n    <tr style=\"text-align: right;\">\n      <th></th>\n      <th>Allele</th>\n      <th>PostFilters</th>\n      <th>less7</th>\n      <th>7</th>\n      <th>8</th>\n      <th>9</th>\n      <th>10</th>\n      <th>11</th>\n      <th>12</th>\n      <th>13</th>\n      <th>14</th>\n      <th>15</th>\n      <th>16</th>\n      <th>17</th>\n      <th>18</th>\n      <th>19</th>\n      <th>20</th>\n      <th>more20</th>\n    </tr>\n  </thead>\n  <tbody>\n    <tr>\n      <th>0</th>\n      <td>A*01:01</td>\n      <td>1383</td>\n      <td>0</td>\n      <td>0</td>\n      <td>37</td>\n      <td>488</td>\n      <td>341</td>\n      <td>211</td>\n      <td>167</td>\n      <td>92</td>\n      <td>23</td>\n      <td>14</td>\n      <td>5</td>\n      <td>4</td>\n      <td>0</td>\n      <td>1</td>\n      <td>0</td>\n      <td>0</td>\n    </tr>\n    <tr>\n      <th>1</th>\n      <td>A*02:01</td>\n      <td>3274</td>\n      <td>0</td>\n      <td>10</td>\n      <td>30</td>\n      <td>2075</td>\n      <td>481</td>\n      <td>489</td>\n      <td>103</td>\n      <td>48</td>\n      <td>15</td>\n      <td>8</td>\n      <td>8</td>\n      <td>4</td>\n      <td>1</td>\n      <td>1</td>\n      <td>0</td>\n      <td>1</td>\n    </tr>\n    <tr>\n      <th>2</th>\n      <td>A*02:02</td>\n      <td>3363</td>\n      <td>0</td>\n      <td>30</td>\n      <td>52</td>\n      <td>2322</td>\n      <td>507</td>\n      <td>282</td>\n      <td>83</td>\n      <td>35</td>\n      <td>12</td>\n      <td>8</td>\n      <td>8</td>\n      <td>1</td>\n      <td>3</td>\n      <td>5</td>\n      <td>2</td>\n      <td>13</td>\n    </tr>\n    <tr>\n      <th>3</th>\n      <td>A*02:03</td>\n      <td>2649</td>\n      <td>0</td>\n      <td>5</td>\n      <td>39</td>\n      <td>1760</td>\n      <td>671</td>\n      <td>103</td>\n      <td>34</td>\n      <td>15</td>\n      <td>6</td>\n      <td>3</td>\n      <td>3</td>\n      <td>3</td>\n      <td>1</td>\n      <td>2</td>\n      <td>1</td>\n      <td>3</td>\n    </tr>\n    <tr>\n      <th>4</th>\n      <td>A*02:04</td>\n      <td>2027</td>\n      <td>0</td>\n      <td>6</td>\n      <td>26</td>\n      <td>1628</td>\n      <td>178</td>\n      <td>153</td>\n      <td>24</td>\n      <td>6</td>\n      <td>2</td>\n      <td>1</td>\n      <td>1</td>\n      <td>1</td>\n      <td>1</td>\n      <td>0</td>\n      <td>0</td>\n      <td>0</td>\n    </tr>\n  </tbody>\n</table>\n</div>"
     },
     "metadata": {},
     "execution_count": 3
    }
   ],
   "source": [
    "data3.head()\n"
   ]
  },
  {
   "cell_type": "code",
   "execution_count": null,
   "metadata": {},
   "outputs": [],
   "source": []
  }
 ]
}